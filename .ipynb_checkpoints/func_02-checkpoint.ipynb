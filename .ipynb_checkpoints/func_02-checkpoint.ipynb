{
 "cells": [
  {
   "cell_type": "code",
   "execution_count": 1,
   "id": "f3139bba",
   "metadata": {},
   "outputs": [],
   "source": [
    "def say_goodbye(name):\n",
    "    return \"Bye\" + name "
   ]
  },
  {
   "cell_type": "code",
   "execution_count": 2,
   "id": "af136d55",
   "metadata": {},
   "outputs": [
    {
     "data": {
      "text/plain": [
       "'ByeShimaa'"
      ]
     },
     "execution_count": 2,
     "metadata": {},
     "output_type": "execute_result"
    }
   ],
   "source": [
    "say_goodbye(\"Shimaa\")"
   ]
  },
  {
   "cell_type": "code",
   "execution_count": null,
   "id": "e8fff350",
   "metadata": {},
   "outputs": [],
   "source": []
  }
 ],
 "metadata": {
  "kernelspec": {
   "display_name": "Python 3",
   "language": "python",
   "name": "python3"
  },
  "language_info": {
   "codemirror_mode": {
    "name": "ipython",
    "version": 3
   },
   "file_extension": ".py",
   "mimetype": "text/x-python",
   "name": "python",
   "nbconvert_exporter": "python",
   "pygments_lexer": "ipython3",
   "version": "3.8.8"
  }
 },
 "nbformat": 4,
 "nbformat_minor": 5
}
