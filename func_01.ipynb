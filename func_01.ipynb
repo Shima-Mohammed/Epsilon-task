{
 "cells": [
  {
   "cell_type": "code",
   "execution_count": 1,
   "id": "c25b538a",
   "metadata": {},
   "outputs": [],
   "source": [
    "def say_hello(name):\n",
    "    return \"Welcome \" + name  "
   ]
  },
  {
   "cell_type": "code",
   "execution_count": 2,
   "id": "42957bbc",
   "metadata": {},
   "outputs": [
    {
     "data": {
      "text/plain": [
       "'Welcome Shimaa'"
      ]
     },
     "execution_count": 2,
     "metadata": {},
     "output_type": "execute_result"
    }
   ],
   "source": [
    "say_hello('Shimaa')"
   ]
  },
  {
   "cell_type": "code",
   "execution_count": null,
   "id": "e2f8a29e",
   "metadata": {},
   "outputs": [],
   "source": []
  }
 ],
 "metadata": {
  "kernelspec": {
   "display_name": "Python 3",
   "language": "python",
   "name": "python3"
  },
  "language_info": {
   "codemirror_mode": {
    "name": "ipython",
    "version": 3
   },
   "file_extension": ".py",
   "mimetype": "text/x-python",
   "name": "python",
   "nbconvert_exporter": "python",
   "pygments_lexer": "ipython3",
   "version": "3.8.8"
  }
 },
 "nbformat": 4,
 "nbformat_minor": 5
}
